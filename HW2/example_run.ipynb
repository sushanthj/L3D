{
 "cells": [
  {
   "cell_type": "code",
   "execution_count": null,
   "metadata": {},
   "outputs": [],
   "source": [
    "# from google.colab import drive\n",
    "# drive.mount('/content/drive')"
   ]
  },
  {
   "cell_type": "code",
   "execution_count": null,
   "metadata": {},
   "outputs": [],
   "source": [
    "! apt install git\n",
    "! git clone https://github.com/sushanthj/L3D\n",
    "# ! git pull"
   ]
  },
  {
   "cell_type": "code",
   "execution_count": null,
   "metadata": {},
   "outputs": [],
   "source": [
    "%cd L3D/HW2"
   ]
  },
  {
   "cell_type": "code",
   "execution_count": null,
   "metadata": {},
   "outputs": [],
   "source": [
    "!gdown https://drive.google.com/uc?id=1fRaJevvaW_B_ZLb67dqARzJvk7gYGMbG"
   ]
  },
  {
   "cell_type": "code",
   "execution_count": null,
   "metadata": {},
   "outputs": [],
   "source": [
    "!mkdir '/content/data'\n",
    "!unzip -qo /content/L3D/HW2/r2n2_shapenet_dataset\\ 2.zip -d '/content/data'"
   ]
  },
  {
   "cell_type": "code",
   "execution_count": null,
   "metadata": {},
   "outputs": [],
   "source": [
    "import os\n",
    "import sys\n",
    "import torch\n",
    "need_pytorch3d=False\n",
    "try:\n",
    "    import pytorch3d\n",
    "except ModuleNotFoundError:\n",
    "    need_pytorch3d=True\n",
    "if need_pytorch3d:\n",
    "    if torch.__version__.startswith(\"2.1.\") and sys.platform.startswith(\"linux\"):\n",
    "        # We try to install PyTorch3D via a released wheel.\n",
    "        pyt_version_str=torch.__version__.split(\"+\")[0].replace(\".\", \"\")\n",
    "        version_str=\"\".join([\n",
    "            f\"py3{sys.version_info.minor}_cu\",\n",
    "            torch.version.cuda.replace(\".\",\"\"),\n",
    "            f\"_pyt{pyt_version_str}\"\n",
    "        ])\n",
    "        !pip install fvcore iopath -q\n",
    "        !pip install --no-index --no-cache-dir pytorch3d -f https://dl.fbaipublicfiles.com/pytorch3d/packaging/wheels/{version_str}/download.html -q\n",
    "    else:\n",
    "        # We try to install PyTorch3D from source.\n",
    "        !pip install 'git+https://github.com/facebookresearch/pytorch3d.git@stable' -q"
   ]
  },
  {
   "cell_type": "code",
   "execution_count": null,
   "metadata": {},
   "outputs": [],
   "source": [
    "!pip install -r requirements.txt -q\n",
    "!pip install --upgrade nbformat -q"
   ]
  },
  {
   "cell_type": "code",
   "execution_count": null,
   "metadata": {},
   "outputs": [],
   "source": [
    "!git pull"
   ]
  },
  {
   "cell_type": "code",
   "execution_count": null,
   "metadata": {},
   "outputs": [],
   "source": [
    "# verify paths\n",
    "from dataset_location import SPLITS_PATH\n",
    "print(SPLITS_PATH)"
   ]
  },
  {
   "cell_type": "code",
   "execution_count": null,
   "metadata": {},
   "outputs": [],
   "source": [
    "! python3 cache_mesh.py"
   ]
  },
  {
   "cell_type": "code",
   "execution_count": null,
   "metadata": {},
   "outputs": [],
   "source": [
    "! python3 eval_model.py --type 'vox' --load_checkpoint --load_feat\n",
    "! "
   ]
  },
  {
   "cell_type": "code",
   "execution_count": null,
   "metadata": {},
   "outputs": [],
   "source": [
    "# NOTE: enabling load_feat will cause the network to freeze the backbone. We want to finetune it a bit for better outputs.\n",
    "! python3 train_model.py --type 'vox' --max_iter 20000 --wandb_run_name 'voxel_v2(resnet, no_load_feat, gelu)'\n",
    "\n",
    "! python3 train_model.py --type 'point' --max_iter 20000 --wandb_run_name 'point_v2(resnet, npts_1000)'\n",
    "\n",
    "! python3 train_model.py --type 'mesh' --max_iter 20000 --wandb_run_name 'mesh_v2(resnet)'"
   ]
  },
  {
   "cell_type": "code",
   "execution_count": null,
   "metadata": {},
   "outputs": [],
   "source": [
    "# twork to freeze the backbone. We want to finetune it a bit for better outputs.\n",
    "! python3 train_model.py --type 'vox' --max_iter 20000 --wandb_run_name 'voxel_v2_it1(resnet, no_load_feat, gelu)' --load_checkpoint \n",
    "\n",
    "! python3 train_model.py --type 'point' --max_iter 20000 --wandb_run_name 'point_v2_it1(resnet, npts_1000)'\n",
    "\n",
    "! python3 train_model.py --type 'mesh' --max_iter 20000 --wandb_run_name 'mesh_v2(resnet)'"
   ]
  }
 ],
 "metadata": {
  "language_info": {
   "name": "python"
  }
 },
 "nbformat": 4,
 "nbformat_minor": 2
}
